{
 "cells": [
  {
   "cell_type": "code",
   "execution_count": 33,
   "metadata": {},
   "outputs": [],
   "source": [
    "import numpy as np\n",
    "import matplotlib.pyplot as plt\n",
    "from scipy import stats\n"
   ]
  },
  {
   "cell_type": "code",
   "execution_count": 34,
   "metadata": {},
   "outputs": [
    {
     "name": "stdout",
     "output_type": "stream",
     "text": [
      "----------------------------\n",
      "Expected results:\n",
      "   - Slope: 1.00211681802\n",
      "   - Intercept: -0.262323073774\n",
      "   - R-squared: 0.999993745884\n",
      "----------------------------\n",
      "----------------------------\n",
      "Actual results:\n",
      "   - Slope: 1.00211681802\n",
      "   - Intercept: -0.262323073774\n",
      "   - R-squared: 0.999993745884\n",
      "----------------------------\n"
     ]
    }
   ],
   "source": [
    "# Unit test for highly correlated set:\n",
    "\n",
    "x = [0.2, 337.4, 118.2, 884.6, 10.1, 226.5, 666.3, 996.3, 448.6, 777.0,\n",
    "     558.2, 0.4, 0.6, 775.5, 666.9, 338.0, 447.5, 11.6, 556.0, 228.1,\n",
    "     995.8, 887.6, 120.2, 0.3, 0.3, 556.8, 339.1, 887.2, 999.0, 779.0,\n",
    "     11.1, 118.3, 229.2, 669.1, 448.9, 0.5]\n",
    "\n",
    "y = [0.1, 338.8, 118.1, 888.0, 9.2, 228.1, 668.5, 998.5, 449.1, 778.9,\n",
    "     559.2, 0.3, 0.1, 778.1, 668.8, 339.3, 448.9, 10.8, 557.7, 228.3,\n",
    "     998.0, 888.8, 119.6, 0.3, 0.6, 557.6, 339.3, 888.0, 998.5, 778.9,\n",
    "     10.2, 117.6, 228.9, 668.4, 449.2, 0.2]\n",
    "\n",
    "round_to = 12\n",
    "\n",
    "# Expected values\n",
    "exp_slope = round(1.00211681802045, round_to)\n",
    "exp_intercept = round(-0.262323073774029, round_to)\n",
    "exp_rsquared = round(0.999993745883712, round_to)\n",
    "\n",
    "print('----------------------------')\n",
    "print('Expected results:')\n",
    "print(f'   - Slope: {exp_slope}')\n",
    "print(f'   - Intercept: {exp_intercept}')\n",
    "print(f'   - R-squared: {exp_rsquared}')\n",
    "\n",
    "print('----------------------------')\n",
    "\n",
    "actual = stats.linregress(x, y)\n",
    "# Returns: \n",
    "# LinregressResult(slope=1.0021168180204543, intercept=-0.26232307377398456, rvalue=0.9999968729369666, pvalue=4.654040852584279e-90, stderr=0.00042979684820064804)\n",
    "\n",
    "actual_slope = round(actual.slope, round_to)\n",
    "actual_intercept = round(actual.intercept, round_to)\n",
    "actual_rsquared = round(actual.rvalue**2, round_to)\n",
    "print('----------------------------')\n",
    "print('Actual results:')\n",
    "print(f'   - Slope: {actual_slope}')\n",
    "print(f'   - Intercept: {actual_intercept}') # interceptexp_intercept\n",
    "print(f'   - R-squared: {actual_rsquared}')\n",
    "\n",
    "\n",
    "print('----------------------------')\n",
    "\n",
    "assert (exp_slope == actual_slope), 'Slope is different!'\n",
    "assert (exp_intercept == actual_intercept), 'Intercept is different!'\n",
    "assert (exp_rsquared == actual_rsquared), 'r-squared is different!'"
   ]
  },
  {
   "cell_type": "code",
   "execution_count": 36,
   "metadata": {},
   "outputs": [
    {
     "data": {
      "text/plain": [
       "LinregressResult(slope=0.19644990055858422, intercept=10.211269918932343, rvalue=0.992791070127779, pvalue=4.145662086656158e-92, stderr=0.002395781449783862)"
      ]
     },
     "execution_count": 36,
     "metadata": {},
     "output_type": "execute_result"
    }
   ],
   "source": [
    "# Regress a line w sinusoidal noise, with a single input of shape (2, N).\n",
    "x = np.linspace(0, 100, 100)\n",
    "y = 0.2 * np.linspace(0, 100, 100) + 10\n",
    "y += np.sin(np.linspace(0, 20, 100))\n",
    "rows = np.vstack((x, y))\n",
    "\n",
    "res = stats.linregress(rows)\n",
    "res\n",
    "\n",
    "# LinregressResult(slope=0.19644990055858422, intercept=10.211269918932343, rvalue=0.992791070127779, pvalue=4.145662086656158e-92, stderr=0.002395781449783862)"
   ]
  },
  {
   "cell_type": "code",
   "execution_count": 37,
   "metadata": {},
   "outputs": [
    {
     "data": {
      "text/plain": [
       "LinregressResult(slope=-1.0, intercept=2.9999999999999993e-71, rvalue=-1.0, pvalue=0.0, stderr=0.0)"
      ]
     },
     "execution_count": 37,
     "metadata": {},
     "output_type": "execute_result"
    }
   ],
   "source": [
    "# If the slope of the regression is negative the factor R tend to -1 not 1.\n",
    "# Sometimes rounding errors makes it < -1 leading to stderr being NaN\n",
    "a, n = 1e-71, 100000\n",
    "x = np.linspace(a, 2 * a, n)\n",
    "y = np.linspace(2 * a, a, n)\n",
    "stats.linregress(x, y)\n",
    "res = stats.linregress(x, y)\n",
    "res"
   ]
  },
  {
   "cell_type": "code",
   "execution_count": null,
   "metadata": {},
   "outputs": [],
   "source": []
  }
 ],
 "metadata": {
  "kernelspec": {
   "display_name": "Python 3",
   "language": "python",
   "name": "python3"
  },
  "language_info": {
   "codemirror_mode": {
    "name": "ipython",
    "version": 3
   },
   "file_extension": ".py",
   "mimetype": "text/x-python",
   "name": "python",
   "nbconvert_exporter": "python",
   "pygments_lexer": "ipython3",
   "version": "3.7.1"
  }
 },
 "nbformat": 4,
 "nbformat_minor": 4
}
