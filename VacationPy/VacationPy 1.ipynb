{
 "cells": [
  {
   "cell_type": "markdown",
   "metadata": {},
   "source": [
    "# VacationPy\n",
    "----\n",
    "\n",
    "#### Note\n",
    "* Instructions have been included for each segment. You do not have to follow them exactly, but they are included to help you think through the steps."
   ]
  },
  {
   "cell_type": "code",
   "execution_count": 60,
   "metadata": {},
   "outputs": [],
   "source": [
    "# Dependencies and Setup\n",
    "import matplotlib.pyplot as plt\n",
    "import pandas as pd\n",
    "import numpy as np\n",
    "import requests\n",
    "import gmaps\n",
    "import os\n",
    "\n",
    "# Import API key\n",
    "from api_keys import g_key"
   ]
  },
  {
   "cell_type": "markdown",
   "metadata": {},
   "source": [
    "### Store Part I results into DataFrame\n",
    "* Load the csv exported in Part I to a DataFrame"
   ]
  },
  {
   "cell_type": "code",
   "execution_count": 61,
   "metadata": {},
   "outputs": [
    {
     "name": "stdout",
     "output_type": "stream",
     "text": [
      "There are now 552 cities in the dataframe\n"
     ]
    },
    {
     "data": {
      "text/html": [
       "<div>\n",
       "<style scoped>\n",
       "    .dataframe tbody tr th:only-of-type {\n",
       "        vertical-align: middle;\n",
       "    }\n",
       "\n",
       "    .dataframe tbody tr th {\n",
       "        vertical-align: top;\n",
       "    }\n",
       "\n",
       "    .dataframe thead th {\n",
       "        text-align: right;\n",
       "    }\n",
       "</style>\n",
       "<table border=\"1\" class=\"dataframe\">\n",
       "  <thead>\n",
       "    <tr style=\"text-align: right;\">\n",
       "      <th></th>\n",
       "      <th>Latitude</th>\n",
       "      <th>Longitude</th>\n",
       "      <th>City</th>\n",
       "      <th>Country</th>\n",
       "      <th>Date</th>\n",
       "      <th>Cloudiness</th>\n",
       "      <th>Humidity</th>\n",
       "      <th>Max Temp</th>\n",
       "      <th>Wind Speed</th>\n",
       "    </tr>\n",
       "  </thead>\n",
       "  <tbody>\n",
       "    <tr>\n",
       "      <th>0</th>\n",
       "      <td>-70.151047</td>\n",
       "      <td>26.986246</td>\n",
       "      <td>kruisfontein</td>\n",
       "      <td>za</td>\n",
       "      <td>2020-01-23</td>\n",
       "      <td>4</td>\n",
       "      <td>86</td>\n",
       "      <td>63.84</td>\n",
       "      <td>13.42</td>\n",
       "    </tr>\n",
       "    <tr>\n",
       "      <th>1</th>\n",
       "      <td>-75.898007</td>\n",
       "      <td>5.550883</td>\n",
       "      <td>hermanus</td>\n",
       "      <td>za</td>\n",
       "      <td>2020-01-23</td>\n",
       "      <td>0</td>\n",
       "      <td>80</td>\n",
       "      <td>70.00</td>\n",
       "      <td>11.99</td>\n",
       "    </tr>\n",
       "    <tr>\n",
       "      <th>2</th>\n",
       "      <td>-82.451657</td>\n",
       "      <td>-60.138620</td>\n",
       "      <td>ushuaia</td>\n",
       "      <td>ar</td>\n",
       "      <td>2020-01-23</td>\n",
       "      <td>75</td>\n",
       "      <td>71</td>\n",
       "      <td>50.00</td>\n",
       "      <td>24.16</td>\n",
       "    </tr>\n",
       "    <tr>\n",
       "      <th>3</th>\n",
       "      <td>83.501309</td>\n",
       "      <td>-56.554683</td>\n",
       "      <td>upernavik</td>\n",
       "      <td>gl</td>\n",
       "      <td>2020-01-23</td>\n",
       "      <td>44</td>\n",
       "      <td>59</td>\n",
       "      <td>-5.66</td>\n",
       "      <td>9.15</td>\n",
       "    </tr>\n",
       "    <tr>\n",
       "      <th>4</th>\n",
       "      <td>-29.975359</td>\n",
       "      <td>-129.818902</td>\n",
       "      <td>rikitea</td>\n",
       "      <td>pf</td>\n",
       "      <td>2020-01-23</td>\n",
       "      <td>0</td>\n",
       "      <td>77</td>\n",
       "      <td>79.50</td>\n",
       "      <td>16.91</td>\n",
       "    </tr>\n",
       "  </tbody>\n",
       "</table>\n",
       "</div>"
      ],
      "text/plain": [
       "    Latitude   Longitude          City Country        Date  Cloudiness  \\\n",
       "0 -70.151047   26.986246  kruisfontein      za  2020-01-23           4   \n",
       "1 -75.898007    5.550883      hermanus      za  2020-01-23           0   \n",
       "2 -82.451657  -60.138620       ushuaia      ar  2020-01-23          75   \n",
       "3  83.501309  -56.554683     upernavik      gl  2020-01-23          44   \n",
       "4 -29.975359 -129.818902       rikitea      pf  2020-01-23           0   \n",
       "\n",
       "   Humidity  Max Temp  Wind Speed  \n",
       "0        86     63.84       13.42  \n",
       "1        80     70.00       11.99  \n",
       "2        71     50.00       24.16  \n",
       "3        59     -5.66        9.15  \n",
       "4        77     79.50       16.91  "
      ]
     },
     "execution_count": 61,
     "metadata": {},
     "output_type": "execute_result"
    }
   ],
   "source": [
    "df = pd.read_csv('../output_data/RawData.csv')\n",
    "\n",
    "print(f'There are now {len(df)} cities in the dataframe')\n",
    "df.head()"
   ]
  },
  {
   "cell_type": "markdown",
   "metadata": {},
   "source": [
    "### Humidity Heatmap\n",
    "* Configure gmaps.\n",
    "* Use the Lat and Lng as locations and Humidity as the weight.\n",
    "* Add Heatmap layer to map."
   ]
  },
  {
   "cell_type": "code",
   "execution_count": 68,
   "metadata": {},
   "outputs": [
    {
     "name": "stdout",
     "output_type": "stream",
     "text": [
      "There are 552 locations\n",
      "There are 552 humidity rows\n"
     ]
    }
   ],
   "source": [
    "# Note: NaN values were handled in export of csv data already but may as well do it again:\n",
    "df = df.dropna()\n",
    "\n",
    "# Store latitude and longitude in locations as float\n",
    "locations = df[[\"Latitude\", \"Longitude\"]].astype(float)\n",
    "\n",
    "# Convert to float\n",
    "humidity = df[\"Humidity\"].astype(float)\n",
    "\n",
    "print(f'There are {len(locations)} locations')\n",
    "print(f'There are {len(humidity)} humidity rows')\n",
    "assert (len(locations) == len(humidity)), \"Locations and humidity do not have the same number of rows!\""
   ]
  },
  {
   "cell_type": "code",
   "execution_count": 74,
   "metadata": {},
   "outputs": [
    {
     "name": "stdout",
     "output_type": "stream",
     "text": [
      "Min Lat: -89.57129991073845\n",
      "Max Lat: 89.73115084644216\n",
      "Min Lng: -176.5173946159476\n",
      "Max Lng: 179.7510723199023\n"
     ]
    }
   ],
   "source": [
    "# Value verification - any rows outside of lat/long coordinates?\n",
    "print(f'Min Lat: {df[\"Latitude\"].min()}')\n",
    "print(f'Max Lat: {df[\"Latitude\"].max()}')\n",
    "\n",
    "print(f'Min Lng: {df[\"Longitude\"].min()}')\n",
    "print(f'Max Lng: {df[\"Longitude\"].max()}')"
   ]
  },
  {
   "cell_type": "code",
   "execution_count": 67,
   "metadata": {},
   "outputs": [
    {
     "data": {
      "application/vnd.jupyter.widget-view+json": {
       "model_id": "296aa9b45e984031a68fd913cc7d48de",
       "version_major": 2,
       "version_minor": 0
      },
      "text/plain": [
       "Figure(layout=FigureLayout(height='420px'))"
      ]
     },
     "metadata": {},
     "output_type": "display_data"
    }
   ],
   "source": [
    "# Configure gmaps\n",
    "gmaps.configure(api_key=g_key)\n",
    "\n",
    "# Plot Heatmap\n",
    "fig = gmaps.figure()\n",
    "heatmap_layer = gmaps.heatmap_layer(locations)\n",
    "\n",
    "# For max intensity in the heat map, try setting it to the highest humidity found in the data set.\n",
    "# Must be float\n",
    "intensity = df[\"Humidity\"].max().astype(float)\n",
    "\n",
    "# Create heat layer\n",
    "heat_layer = gmaps.heatmap_layer(\n",
    "    locations, \n",
    "    weights=humidity, \n",
    "    dissipating=False, \n",
    "    max_intensity=intensity\n",
    ")\n",
    "\n",
    "# Add layer\n",
    "fig.add_layer(heat_layer)\n",
    "\n",
    "# Display figure\n",
    "fig\n"
   ]
  },
  {
   "cell_type": "code",
   "execution_count": 9,
   "metadata": {},
   "outputs": [
    {
     "data": {
      "application/vnd.jupyter.widget-view+json": {
       "model_id": "df7b1fdbb5c44197bc6ef57238e58921",
       "version_major": 2,
       "version_minor": 0
      },
      "text/plain": [
       "Figure(layout=FigureLayout(height='420px'))"
      ]
     },
     "metadata": {},
     "output_type": "display_data"
    }
   ],
   "source": [
    "\n",
    "\n",
    "heat_layer = gmaps.heatmap_layer(\n",
    "    locations, \n",
    "    weights=humidity, \n",
    "    dissipating=False, \n",
    "    max_intensity=intensity,\n",
    "    point_radius=1\n",
    ")\n"
   ]
  },
  {
   "cell_type": "markdown",
   "metadata": {},
   "source": [
    "### Create new DataFrame fitting weather criteria\n",
    "* Narrow down the cities to fit weather conditions.\n",
    "* Drop any rows will null values."
   ]
  },
  {
   "cell_type": "code",
   "execution_count": 54,
   "metadata": {},
   "outputs": [
    {
     "data": {
      "application/vnd.jupyter.widget-view+json": {
       "model_id": "cea1a7525a9e454a93e7d04a801991b3",
       "version_major": 2,
       "version_minor": 0
      },
      "text/plain": [
       "Figure(layout=FigureLayout(height='420px'))"
      ]
     },
     "metadata": {},
     "output_type": "display_data"
    }
   ],
   "source": [
    "import gmaps.datasets\n",
    "df = gmaps.datasets.load_dataset_as_df('earthquakes')\n",
    "# dataframe with columns ('latitude', 'longitude', 'magnitude')\n",
    "\n",
    "fig = gmaps.figure()\n",
    "heatmap_layer = gmaps.heatmap_layer(\n",
    "    df[['latitude', 'longitude']], weights=df['magnitude'],\n",
    "    max_intensity=99, point_radius=3.0\n",
    ")\n",
    "fig.add_layer(heatmap_layer)\n",
    "fig"
   ]
  },
  {
   "cell_type": "markdown",
   "metadata": {},
   "source": [
    "### Hotel Map\n",
    "* Store into variable named `hotel_df`.\n",
    "* Add a \"Hotel Name\" column to the DataFrame.\n",
    "* Set parameters to search for hotels with 5000 meters.\n",
    "* Hit the Google Places API for each city's coordinates.\n",
    "* Store the first Hotel result into the DataFrame.\n",
    "* Plot markers on top of the heatmap."
   ]
  },
  {
   "cell_type": "code",
   "execution_count": null,
   "metadata": {},
   "outputs": [],
   "source": []
  },
  {
   "cell_type": "code",
   "execution_count": null,
   "metadata": {},
   "outputs": [],
   "source": []
  },
  {
   "cell_type": "code",
   "execution_count": null,
   "metadata": {},
   "outputs": [],
   "source": [
    "\n"
   ]
  },
  {
   "cell_type": "code",
   "execution_count": null,
   "metadata": {},
   "outputs": [],
   "source": [
    "# NOTE: Do not change any of the code in this cell\n",
    "\n",
    "# Using the template add the hotel marks to the heatmap\n",
    "info_box_template = \"\"\"\n",
    "<dl>\n",
    "<dt>Name</dt><dd>{Hotel Name}</dd>\n",
    "<dt>City</dt><dd>{City}</dd>\n",
    "<dt>Country</dt><dd>{Country}</dd>\n",
    "</dl>\n",
    "\"\"\"\n",
    "# Store the DataFrame Row\n",
    "# NOTE: be sure to update with your DataFrame name\n",
    "hotel_info = [info_box_template.format(**row) for index, row in narrowed_city_df.iterrows()]\n",
    "locations = hotel_df[[\"Lat\", \"Lng\"]]"
   ]
  },
  {
   "cell_type": "code",
   "execution_count": null,
   "metadata": {},
   "outputs": [],
   "source": [
    "# Add marker layer ontop of heat map\n",
    "\n",
    "\n",
    "# Display Map"
   ]
  }
 ],
 "metadata": {
  "kernelspec": {
   "display_name": "Python 3",
   "language": "python",
   "name": "python3"
  },
  "language_info": {
   "codemirror_mode": {
    "name": "ipython",
    "version": 3
   },
   "file_extension": ".py",
   "mimetype": "text/x-python",
   "name": "python",
   "nbconvert_exporter": "python",
   "pygments_lexer": "ipython3",
   "version": "3.7.1"
  },
  "latex_envs": {
   "LaTeX_envs_menu_present": true,
   "autoclose": false,
   "autocomplete": true,
   "bibliofile": "biblio.bib",
   "cite_by": "apalike",
   "current_citInitial": 1,
   "eqLabelWithNumbers": true,
   "eqNumInitial": 1,
   "hotkeys": {
    "equation": "Ctrl-E",
    "itemize": "Ctrl-I"
   },
   "labels_anchors": false,
   "latex_user_defs": false,
   "report_style_numbering": false,
   "user_envs_cfg": false
  }
 },
 "nbformat": 4,
 "nbformat_minor": 2
}
